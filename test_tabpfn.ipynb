{
 "cells": [
  {
   "cell_type": "code",
   "execution_count": 1,
   "metadata": {},
   "outputs": [
    {
     "name": "stdout",
     "output_type": "stream",
     "text": [
      "Missing Value Processing...\n",
      "\n",
      "(before processing)The number of nan\n",
      "- train: 59028\n",
      "- valid: 13149\n",
      "\n",
      "  1. Processing <ALL> Columns with 'DROP COLUMN'\n",
      "\n",
      "Finish!\n",
      "(after processing)The number of nan\n",
      "- train: 0\n",
      "- valid: 0\n",
      "\n",
      "====================\n",
      "Sampling with UNDER...\n",
      "\n",
      "(before sampling)Value count\n",
      "target\n",
      "0    31156\n",
      "1     2000\n",
      "Name: count, dtype: int64 \n",
      "\n",
      "Finish!\n",
      "(after sampling)Value count\n",
      "target\n",
      "0    2000\n",
      "1    2000\n",
      "Name: count, dtype: int64\n",
      "\n",
      "====================\n",
      "Scaling our dataset...\n",
      "\n",
      "  1. Scaling <ALL> Columns with 'STANDARD'\n",
      "\n",
      "Finish! (the number of columns: 130)\n",
      "\n",
      "====================\n",
      "Encoding our dataset...\n",
      "\n",
      "  1. Encoding <ALL> Columns with 'LABEL'\n",
      "\n",
      "Finish! (the number of columns: 12)\n",
      "\n",
      "====================\n",
      "Feature Engineering with PCA PER PROCESS...\n",
      "\n",
      "  Execute PCA PER PROCESS with minimum probability 0.9999\n",
      "\n",
      "  Stage 'Dam': the number of target cols is '68'\n",
      "  => 9_components with Explained Variance Ratio '0.9999086628211619'\n",
      "\n",
      "  Stage 'Fill1': the number of target cols is '32'\n",
      "  => 8_components with Explained Variance Ratio '0.9999071092471651'\n",
      "\n",
      "  Stage 'Fill2': the number of target cols is '31'\n",
      "  => 8_components with Explained Variance Ratio '0.9999211489839566'\n",
      "\n",
      "  Stage 'AutoClave': the number of target cols is '11'\n",
      "  => 6_components with Explained Variance Ratio '0.9999326583371504'\n",
      "Finish!\n",
      "\n",
      "====================\n",
      "(4000, 31)\n"
     ]
    }
   ],
   "source": [
    "from tools.preprocess import LoadDataset\n",
    "\n",
    "import pandas as pd\n",
    "import numpy as np\n",
    "\n",
    "from sklearn.metrics import f1_score\n",
    "from sklearn.ensemble import RandomForestClassifier\n",
    "from sklearn.ensemble import IsolationForest\n",
    "from catboost import Pool,CatBoostClassifier\n",
    "\n",
    "train_path = \"../data/train.csv\"\n",
    "test_path = \"../data/valid.csv\"\n",
    "valid_path = \"../data/valid.csv\"\n",
    "\n",
    "# do with train, test, valid\n",
    "data = LoadDataset(train_path,\n",
    "                   test_path, \n",
    "                   valid_path)\n",
    "\n",
    "data.nan_processing({\"ALL\": \"DROP COLUMN\"})\n",
    "data.sampling(\"UNDER\")\n",
    "data.scaling({\"ALL\": \"STANDARD\"})\n",
    "data.encoding({\"ALL\": \"LABEL\"})\n",
    "data.feature_engineering(\"PCA PER PROCESS\", {\"min_proba\": 0.9999})\n",
    "print(data.train.x.shape)"
   ]
  },
  {
   "cell_type": "code",
   "execution_count": 2,
   "metadata": {},
   "outputs": [
    {
     "name": "stderr",
     "output_type": "stream",
     "text": [
      "c:\\Users\\abrah\\anaconda3\\envs\\Capstone\\lib\\site-packages\\tqdm\\auto.py:21: TqdmWarning: IProgress not found. Please update jupyter and ipywidgets. See https://ipywidgets.readthedocs.io/en/stable/user_install.html\n",
      "  from .autonotebook import tqdm as notebook_tqdm\n"
     ]
    },
    {
     "ename": "",
     "evalue": "",
     "output_type": "error",
     "traceback": [
      "\u001b[1;31mThe Kernel crashed while executing code in the current cell or a previous cell. \n",
      "\u001b[1;31mPlease review the code in the cell(s) to identify a possible cause of the failure. \n",
      "\u001b[1;31mClick <a href='https://aka.ms/vscodeJupyterKernelCrash'>here</a> for more info. \n",
      "\u001b[1;31mView Jupyter <a href='command:jupyter.viewOutput'>log</a> for further details."
     ]
    }
   ],
   "source": [
    "from chempfn import ChemPFN\n",
    "\n",
    "classifier = ChemPFN(max_iters=100)\n",
    "classifier.fit(data.train.x, data.train.y)\n",
    "y_eval = classifier.predict(data.valid.x)\n",
    "\n",
    "# print('Accuracy', accuracy_score(y_test, y_eval))"
   ]
  },
  {
   "cell_type": "code",
   "execution_count": 49,
   "metadata": {},
   "outputs": [
    {
     "data": {
      "text/plain": [
       "array([0.51790065, 0.5787135 , 0.5392853 , ..., 0.5376424 , 0.5173196 ,\n",
       "       0.5133485 ], dtype=float32)"
      ]
     },
     "execution_count": 49,
     "metadata": {},
     "output_type": "execute_result"
    }
   ],
   "source": [
    "p_eval"
   ]
  },
  {
   "cell_type": "code",
   "execution_count": 50,
   "metadata": {},
   "outputs": [
    {
     "data": {
      "text/plain": [
       "array([False, False, False, ..., False, False, False])"
      ]
     },
     "execution_count": 50,
     "metadata": {},
     "output_type": "execute_result"
    }
   ],
   "source": [
    "p_eval > 0.6"
   ]
  },
  {
   "cell_type": "code",
   "execution_count": 55,
   "metadata": {},
   "outputs": [
    {
     "data": {
      "text/plain": [
       "0    4529\n",
       "1    2821\n",
       "Name: count, dtype: int64"
      ]
     },
     "execution_count": 55,
     "metadata": {},
     "output_type": "execute_result"
    }
   ],
   "source": [
    "pd.DataFrame(y_eval).value_counts()"
   ]
  },
  {
   "cell_type": "code",
   "execution_count": 48,
   "metadata": {},
   "outputs": [
    {
     "name": "stdout",
     "output_type": "stream",
     "text": [
      "0.24423337856173677\n"
     ]
    }
   ],
   "source": [
    "answer = data.valid.y.replace({0:\"Normal\", 1:\"AbNormal\"})\n",
    "f1 = f1_score(answer, test_pred, pos_label = \"AbNormal\")\n",
    "print(f1)"
   ]
  },
  {
   "cell_type": "code",
   "execution_count": null,
   "metadata": {},
   "outputs": [],
   "source": []
  }
 ],
 "metadata": {
  "kernelspec": {
   "display_name": "Capstone",
   "language": "python",
   "name": "python3"
  },
  "language_info": {
   "codemirror_mode": {
    "name": "ipython",
    "version": 3
   },
   "file_extension": ".py",
   "mimetype": "text/x-python",
   "name": "python",
   "nbconvert_exporter": "python",
   "pygments_lexer": "ipython3",
   "version": "3.9.0"
  }
 },
 "nbformat": 4,
 "nbformat_minor": 2
}
